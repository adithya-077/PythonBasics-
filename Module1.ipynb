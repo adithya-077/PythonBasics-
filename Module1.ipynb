{
 "cells": [
  {
   "cell_type": "markdown",
   "metadata": {},
   "source": [
    "# Python Basics"
   ]
  },
  {
   "cell_type": "markdown",
   "metadata": {},
   "source": [
    "These assignments aim to get you acquainted with Python, which is an important requirement for all the research done at Solarillion Foundation. Apart from teaching you Python, these assignments also aim to make you a better programmer and cultivate better coding practices. \n",
    "\n",
    "Visit these links for more details: <br>\n",
    "PEP8 Practices: https://www.python.org/dev/peps/pep-0008/ <br>\n",
    "Check PEP8: http://pep8online.com <br>\n",
    "Python Reference: https://www.py4e.com/lessons <br>\n",
    "\n",
    "Do use Google efficiently, and refer to StackOverflow for clarifying any programming doubts. If you're still stuck, feel free to ask a TA to help you.\n",
    "\n",
    "Each task in the assignment comprises of at least two cells. There are function definitions wherein you will name the function(s), and write code to solve the problem at hand. You will call the function(s) in the last cell of each task, and check your output.\n",
    "\n",
    "We encourage you to play around and learn as much as possible, and be as creative as you can get. More than anything, have fun doing these assignments. Enjoy!"
   ]
  },
  {
   "cell_type": "markdown",
   "metadata": {},
   "source": [
    "# Important\n",
    "* **Only the imports and functions must be present when you upload this notebook to GitHub for verification.** \n",
    "* **Do not upload it until you want to get it verified. Do not change function names or add extra cells or code, or remove anything.**\n",
    "* **For your rough work and four showing your code to TAs, use a different notebook with the name Module2Playground.ipynb and copy only the final functions to this notebook for verification.**"
   ]
  },
  {
   "cell_type": "markdown",
   "metadata": {},
   "source": [
    "# Module 1\n",
    "Scope: Conditions, Loops, Exceptions, Data Structures, Lambda Functions"
   ]
  },
  {
   "cell_type": "markdown",
   "metadata": {},
   "source": [
    "## Imports - Always Execute First!\n",
    "Import any modules and turn on magic here:"
   ]
  },
  {
   "cell_type": "code",
   "execution_count": null,
   "metadata": {},
   "outputs": [],
   "source": [
    "from IPython import get_ipython\n",
    "ipy = get_ipython()\n",
    "if ipy is not None:\n",
    "    ipy.run_line_magic(\"load_ext\", \"pycodestyle_magic\")\n",
    "    ipy.run_line_magic(\"pycodestyle_on\", \"\")"
   ]
  },
  {
   "cell_type": "markdown",
   "metadata": {},
   "source": [
    "## Task 1"
   ]
  },
  {
   "cell_type": "markdown",
   "metadata": {},
   "source": [
    "Print the pattern given in the docstring."
   ]
  },
  {
   "cell_type": "markdown",
   "metadata": {},
   "source": [
    "**Question 1**"
   ]
  },
  {
   "cell_type": "code",
   "execution_count": 4,
   "metadata": {},
   "outputs": [],
   "source": [
    "def number_pattern(n):\n",
    "    \"\"\"\n",
    "        Prints the following pattern for `n` rows:\n",
    "\n",
    "        1\n",
    "        1 2\n",
    "        1 2 3\n",
    "        ...\n",
    "        1 2 3 ... n\n",
    "\n",
    "        Parameters\n",
    "        ----------\n",
    "        n : integer\n",
    "            Number of lines\n",
    "\n",
    "        Output\n",
    "        ------\n",
    "        Prints to stdout (default output)\n",
    "\n",
    "        Ideas\n",
    "        -----\n",
    "        Looping, Nested Loops\n",
    "    \"\"\"\n",
    "    for i in range(0,n):\n",
    "        print(\" \")\n",
    "        for j in range(0,i):\n",
    "            print(j+1,end=\" \")\n",
    "            "
   ]
  },
  {
   "cell_type": "code",
   "execution_count": 5,
   "metadata": {},
   "outputs": [
    {
     "name": "stdout",
     "output_type": "stream",
     "text": [
      " \n",
      " \n",
      "1  \n",
      "1 2  \n",
      "1 2 3  \n",
      "1 2 3 4  \n",
      "1 2 3 4 5  \n",
      "1 2 3 4 5 6  \n",
      "1 2 3 4 5 6 7  \n",
      "1 2 3 4 5 6 7 8 "
     ]
    }
   ],
   "source": [
    "# Call your function here\n",
    "number_pattern(9)"
   ]
  },
  {
   "cell_type": "markdown",
   "metadata": {},
   "source": [
    "**Question 2**"
   ]
  },
  {
   "cell_type": "code",
   "execution_count": 6,
   "metadata": {},
   "outputs": [],
   "source": [
    "def zero_star_pattern(n):\n",
    "    \"\"\"\n",
    "        Prints the following `n` times:\n",
    "\n",
    "        *\n",
    "        00\n",
    "        ***\n",
    "        0000\n",
    "        *****\n",
    "        0000\n",
    "        ***\n",
    "        00\n",
    "        *\n",
    "\n",
    "        Example\n",
    "        -------\n",
    "        n = 2\n",
    "        \n",
    "        *\n",
    "        00\n",
    "        ***\n",
    "        0000\n",
    "        *****\n",
    "        0000\n",
    "        ***\n",
    "        00\n",
    "        *\n",
    "        00\n",
    "        ***\n",
    "        0000\n",
    "        *****\n",
    "        0000\n",
    "        ***\n",
    "        00\n",
    "        *\n",
    "\n",
    "        Parameters\n",
    "        ----------\n",
    "        n : integer\n",
    "            Number of times to print pattern\n",
    "\n",
    "        Output\n",
    "        ------\n",
    "        Prints to stdout (default output)\n",
    "\n",
    "        Ideas\n",
    "        -----\n",
    "        Looping, Conditions\n",
    "    \"\"\"\n",
    "    c = 1\n",
    "    while(n):\n",
    "        a = 4\n",
    "        for i in range(c, a + 1 ):\n",
    "            print(\"\")\n",
    "            for j in range(0, i):\n",
    "                if(i%2==0): print(0,end=\"\")\n",
    "                else: print(\"*\",end=\"\")\n",
    "        for i in range(a,-1,-1):\n",
    "            print(\"\")\n",
    "            for j in range(i,-1,-1):\n",
    "                if(i%2!=0): print(0,end=\"\")\n",
    "                else: print(\"*\",end=\"\")\n",
    "        n=n-1\n",
    "        c=2"
   ]
  },
  {
   "cell_type": "code",
   "execution_count": 7,
   "metadata": {},
   "outputs": [
    {
     "name": "stdout",
     "output_type": "stream",
     "text": [
      "\n",
      "*\n",
      "00\n",
      "***\n",
      "0000\n",
      "*****\n",
      "0000\n",
      "***\n",
      "00\n",
      "*\n",
      "00\n",
      "***\n",
      "0000\n",
      "*****\n",
      "0000\n",
      "***\n",
      "00\n",
      "*\n",
      "00\n",
      "***\n",
      "0000\n",
      "*****\n",
      "0000\n",
      "***\n",
      "00\n",
      "*"
     ]
    }
   ],
   "source": [
    "zero_star_pattern(3)"
   ]
  },
  {
   "cell_type": "markdown",
   "metadata": {},
   "source": [
    "**Question 3**"
   ]
  },
  {
   "cell_type": "code",
   "execution_count": 8,
   "metadata": {},
   "outputs": [],
   "source": [
    "import math\n",
    "def trigonometric_pattern(x, n):\n",
    "    \"\"\"\n",
    "        Consider `k` where k = i*sin^i(x) + i*cos^i(x), 1 <= i <= n. Print `int(k)` $\n",
    "        symbols for all `i` from 1 to `n`. If k < 1, print 1 $ symbol.\n",
    "        \n",
    "        Example\n",
    "        -------\n",
    "        x = 90, n = 5\n",
    "        \n",
    "        $\n",
    "        $$\n",
    "        $$$\n",
    "        $$$$\n",
    "        $$$$$\n",
    "        \n",
    "        Parameters\n",
    "        ----------\n",
    "        x : float\n",
    "            Angle in degrees\n",
    "        n : integer\n",
    "            Number of times\n",
    "\n",
    "        Output\n",
    "        ------\n",
    "        Prints to stdout (default output)\n",
    "\n",
    "        Ideas\n",
    "        -----\n",
    "        Looping, math.sin, math.cos, math.pow\n",
    "    \"\"\"\n",
    "    for i in range(0,n):\n",
    "        sinval = pow(math.sin(math.radians(x)),(i+1))\n",
    "        cosval = pow(math.cos(math.radians(x)),(i+1)) \n",
    "        k = ((i+1)*sinval) + ((i+1)*cosval)\n",
    "        print(int(k)*'$'if k>=1 else 1*'$')"
   ]
  },
  {
   "cell_type": "code",
   "execution_count": 9,
   "metadata": {},
   "outputs": [
    {
     "name": "stdout",
     "output_type": "stream",
     "text": [
      "$\n",
      "$$\n",
      "$$$\n",
      "$$$$\n",
      "$$$$$\n"
     ]
    }
   ],
   "source": [
    "# Call your function here\n",
    "trigonometric_pattern(90,5)"
   ]
  },
  {
   "cell_type": "markdown",
   "metadata": {},
   "source": [
    "Learn about data structures, exception handling and lambda functions."
   ]
  },
  {
   "cell_type": "markdown",
   "metadata": {},
   "source": [
    "**Question 1**"
   ]
  },
  {
   "cell_type": "code",
   "execution_count": 10,
   "metadata": {},
   "outputs": [],
   "source": [
    "dictionary = {'ant': 2, 'dog': 12, 'duck': 20, 'hen': 11, 'other': 99}"
   ]
  },
  {
   "cell_type": "code",
   "execution_count": 11,
   "metadata": {},
   "outputs": [],
   "source": [
    "keys = ['ant', 'cat', 'duck', 'hen', 'lion', 'zebra']"
   ]
  },
  {
   "cell_type": "code",
   "execution_count": 12,
   "metadata": {},
   "outputs": [],
   "source": [
    "def dictionary_lookup(dictionary, keys):\n",
    "    \"\"\"\n",
    "        For all elements in `keys`, print the value associated with them in `dictionary`.\n",
    "        Use exception handling to take care of a non-existent key, and print the value \n",
    "        associated with `other` instead. Use exception handling.\n",
    "\n",
    "        Parameters\n",
    "        ----------\n",
    "        dictionary : dict\n",
    "            Dictionary containing key-value pairs\n",
    "\n",
    "        keys : list\n",
    "            List of keys to lookup values for\n",
    "\n",
    "        Output\n",
    "        ------\n",
    "        Prints to stdout (default output)\n",
    "\n",
    "        Ideas\n",
    "        -----\n",
    "        try, except\n",
    "    \"\"\"\n",
    "    for i in keys:\n",
    "        try:\n",
    "            print(dictionary[i])\n",
    "        except:\n",
    "            print(dictionary['other'])\n",
    "        \n",
    "        \n",
    "    "
   ]
  },
  {
   "cell_type": "code",
   "execution_count": 13,
   "metadata": {},
   "outputs": [
    {
     "name": "stdout",
     "output_type": "stream",
     "text": [
      "2\n",
      "99\n",
      "20\n",
      "11\n",
      "99\n",
      "99\n"
     ]
    }
   ],
   "source": [
    "# Call your function here\n",
    "dictionary_lookup(dictionary, keys)"
   ]
  },
  {
   "cell_type": "markdown",
   "metadata": {},
   "source": [
    "**Question 2**"
   ]
  },
  {
   "cell_type": "code",
   "execution_count": 14,
   "metadata": {},
   "outputs": [],
   "source": [
    "data = [0.00, 0.12, 0.24, 0.36, 0.48, 0.52, 0.65, 0.50, 0.11, 0.09]"
   ]
  },
  {
   "cell_type": "code",
   "execution_count": 15,
   "metadata": {},
   "outputs": [],
   "source": [
    "def round_off(data):\n",
    "    \"\"\"\n",
    "        Round off values in `data` below the mean to 0, and those above the mean to 1,\n",
    "        and return the list of rounded values. Do not use looping statements.\n",
    "\n",
    "        Parameters\n",
    "        ----------\n",
    "        data : list\n",
    "            List of values to round off\n",
    "\n",
    "        Return\n",
    "        ------\n",
    "        List of rounded values\n",
    "        Note: You must return the list with rounded values, not just print it.\n",
    "\n",
    "        Ideas\n",
    "        -----\n",
    "        lambda, map\n",
    "    \"\"\"\n",
    "    mean =0\n",
    "    for i in data:\n",
    "        mean = mean+i\n",
    "    mean = mean/len(data)\n",
    "    res = map(lambda x: 1 if x>mean else 0,data)\n",
    "    return list(res)"
   ]
  },
  {
   "cell_type": "code",
   "execution_count": 16,
   "metadata": {},
   "outputs": [
    {
     "data": {
      "text/plain": [
       "[0, 0, 0, 1, 1, 1, 1, 1, 0, 0]"
      ]
     },
     "execution_count": 16,
     "metadata": {},
     "output_type": "execute_result"
    }
   ],
   "source": [
    "# Call your function here - print the returned list to check your function\n",
    "round_off(data)"
   ]
  },
  {
   "cell_type": "markdown",
   "metadata": {},
   "source": [
    "**Question 3**"
   ]
  },
  {
   "cell_type": "code",
   "execution_count": 17,
   "metadata": {},
   "outputs": [],
   "source": [
    "import math\n",
    "def perfect_squares(n):\n",
    "    \"\"\"\n",
    "        Return a list of all perfect squares less than `n`, using list comprehension.\n",
    "\n",
    "        Parameters\n",
    "        ----------\n",
    "        n : integer\n",
    "            Limit value\n",
    "\n",
    "        Return\n",
    "        ------\n",
    "        List of all perfect squares less than `n`\n",
    "        Note: You must return the list with perfect squares, not just print it.\n",
    "\n",
    "        Ideas\n",
    "        -----\n",
    "        Looping, If, List Comprehension\n",
    "    \"\"\"\n",
    "    res = [ i if (int(math.sqrt(i))*int(math.sqrt(i)))==i else 0 for i in range(1,n+1)]\n",
    "    return [i for i in res if i != 0]"
   ]
  },
  {
   "cell_type": "code",
   "execution_count": 18,
   "metadata": {},
   "outputs": [
    {
     "data": {
      "text/plain": [
       "[1, 4, 9, 16, 25, 36, 49]"
      ]
     },
     "execution_count": 18,
     "metadata": {},
     "output_type": "execute_result"
    }
   ],
   "source": [
    "# Call your function name - print the returned list to check your function\n",
    "perfect_squares(50)"
   ]
  },
  {
   "cell_type": "markdown",
   "metadata": {},
   "source": [
    "Once you're done, move on to Module 2. Nice work!"
   ]
  }
 ],
 "metadata": {
  "kernelspec": {
   "display_name": "Python 3 (ipykernel)",
   "language": "python",
   "name": "python3"
  },
  "language_info": {
   "codemirror_mode": {
    "name": "ipython",
    "version": 3
   },
   "file_extension": ".py",
   "mimetype": "text/x-python",
   "name": "python",
   "nbconvert_exporter": "python",
   "pygments_lexer": "ipython3",
   "version": "3.9.12"
  }
 },
 "nbformat": 4,
 "nbformat_minor": 2
}
