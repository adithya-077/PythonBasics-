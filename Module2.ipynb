{
 "cells": [
  {
   "cell_type": "markdown",
   "metadata": {},
   "source": [
    "# Python Basics"
   ]
  },
  {
   "cell_type": "markdown",
   "metadata": {},
   "source": [
    "These assignments aim to get you acquainted with Python, which is an important requirement for all the research done at Solarillion Foundation. Apart from teaching you Python, these assignments also aim to make you a better programmer and cultivate better coding practices. \n",
    "\n",
    "Visit these links for more details: <br>\n",
    "PEP8 Practices: https://www.python.org/dev/peps/pep-0008/ <br>\n",
    "Check PEP8: http://pep8online.com <br>\n",
    "Python Reference: https://www.py4e.com/lessons <br>\n",
    "\n",
    "Do use Google efficiently, and refer to StackOverflow for clarifying any programming doubts. If you're still stuck, feel free to ask a TA to help you.\n",
    "\n",
    "Each task in the assignment comprises of at least two cells. There are function definitions wherein you will name the function(s), and write code to solve the problem at hand. You will call the function(s) in the last cell of each task, and check your output.\n",
    "\n",
    "We encourage you to play around and learn as much as possible, and be as creative as you can get. More than anything, have fun doing these assignments. Enjoy!"
   ]
  },
  {
   "cell_type": "markdown",
   "metadata": {},
   "source": [
    "# Important\n",
    "* **Only the imports and functions must be present when you upload this notebook to GitHub for verification.** \n",
    "* **Do not upload it until you want to get it verified. Do not change function names or add extra cells or code, or remove anything.**\n",
    "* **For your rough work and four showing your code to TAs, use a different notebook with the name Module2Playground.ipynb and copy only the final functions to this notebook for verification.**"
   ]
  },
  {
   "cell_type": "markdown",
   "metadata": {},
   "source": [
    "# Module 2\n",
    "Scope: NumPy, pandas, pickle, matplotlib, File operations"
   ]
  },
  {
   "cell_type": "markdown",
   "metadata": {},
   "source": [
    "## Imports - Always Execute First!\n",
    "Import any modules and turn on any magic here:"
   ]
  },
  {
   "cell_type": "code",
   "execution_count": 3,
   "metadata": {},
   "outputs": [],
   "source": [
    "import matplotlib as mpl\n",
    "import matplotlib.pyplot as plt\n",
    "import numpy as np\n",
    "import pandas as pd\n",
    "import pickle as pkl\n",
    "import random\n",
    "from IPython import get_ipython\n",
    "ipy = get_ipython()\n",
    "if ipy is not None:\n",
    "    ipy.run_line_magic(\"load_ext\", \"pycodestyle_magic\")\n",
    "    ipy.run_line_magic(\"pycodestyle_on\", \"\")\n",
    "    ipy.run_line_magic(\"matplotlib\", \"inline\")"
   ]
  },
  {
   "cell_type": "markdown",
   "metadata": {},
   "source": [
    "## Task 1"
   ]
  },
  {
   "cell_type": "markdown",
   "metadata": {},
   "source": [
    "Basics of NumPy, pandas, pickle and matplotlib."
   ]
  },
  {
   "cell_type": "markdown",
   "metadata": {},
   "source": [
    "**Question 1**"
   ]
  },
  {
   "cell_type": "code",
   "execution_count": null,
   "metadata": {},
   "outputs": [],
   "source": [
    "\"\"\"\n",
    "    Read the pickle file 'Data/Stress.pkl' and transform the contents into a\n",
    "    a pandas DataFrame of the following form:\n",
    "    \n",
    "            +------+------+------+-----+------+-------+\n",
    "            | ACCx | ACCy | ACCz | ECG | RESP | LABEL |\n",
    "            +------+------+------+-----+------+-------+\n",
    "            |      |      |      |     |      |       |\n",
    "            +------+------+------+-----+------+-------+\n",
    "            |      |      |      |     |      |       |\n",
    "            +------+------+------+-----+------+-------+\n",
    "            |      |      |      |     |      |       |\n",
    "            +------+------+------+-----+------+-------+\n",
    "\n",
    "            Shape: (700, 6)\n",
    "\n",
    "    Save this DataFrame as a CSV file.\n",
    "\n",
    "    Modules\n",
    "    -------\n",
    "    pickle, pandas\n",
    "    \n",
    "    Lookups\n",
    "    -------\n",
    "    NumPy and pandas basics (Check the Lookups folder)\n",
    "    Try to complete the tasks in the Lookups, and play around with the notebooks.\n",
    "\"\"\"        "
   ]
  },
  {
   "cell_type": "code",
   "execution_count": 98,
   "metadata": {},
   "outputs": [
    {
     "name": "stderr",
     "output_type": "stream",
     "text": [
      "8:23: E203 whitespace before ','\n",
      "10:1: W293 blank line contains whitespace\n",
      "12:14: E225 missing whitespace around operator\n",
      "13:15: E225 missing whitespace around operator\n",
      "14:16: E225 missing whitespace around operator\n",
      "15:15: E225 missing whitespace around operator\n",
      "16:15: E225 missing whitespace around operator\n",
      "17:15: E225 missing whitespace around operator\n",
      "18:25: E231 missing whitespace after ','\n"
     ]
    }
   ],
   "source": [
    "def pickle_to_csv(filename):\n",
    "    \"\"\"\n",
    "        Function: pickle_to_csv(filename)\n",
    "        Parameters: filename (String)\n",
    "        Save: DataFrame as `Stress.csv` in folder `Data`\n",
    "        Return: DataFrame\n",
    "    \"\"\"\n",
    "    with open(filename , 'rb') as f:\n",
    "        content = pkl.load(f)\n",
    "    \n",
    "    df = pd.DataFrame(content['signal'])\n",
    "    df['ECG']=df['ECG'].apply(lambda x: x[0])\n",
    "    df['RESP']=df['RESP'].apply(lambda x: x[0])\n",
    "    df['LABEL']=df['LABEL'].apply(lambda x: x[0])\n",
    "    df['ACCx']=df['ACC'].str[0]\n",
    "    df['ACCy']=df['ACC'].str[1]\n",
    "    df['ACCz']=df['ACC'].str[2]\n",
    "    df = df.drop(['ACC'],axis=1)\n",
    "    return df"
   ]
  },
  {
   "cell_type": "code",
   "execution_count": 99,
   "metadata": {},
   "outputs": [
    {
     "data": {
      "text/html": [
       "<div>\n",
       "<style scoped>\n",
       "    .dataframe tbody tr th:only-of-type {\n",
       "        vertical-align: middle;\n",
       "    }\n",
       "\n",
       "    .dataframe tbody tr th {\n",
       "        vertical-align: top;\n",
       "    }\n",
       "\n",
       "    .dataframe thead th {\n",
       "        text-align: right;\n",
       "    }\n",
       "</style>\n",
       "<table border=\"1\" class=\"dataframe\">\n",
       "  <thead>\n",
       "    <tr style=\"text-align: right;\">\n",
       "      <th></th>\n",
       "      <th>ECG</th>\n",
       "      <th>RESP</th>\n",
       "      <th>LABEL</th>\n",
       "      <th>ACCx</th>\n",
       "      <th>ACCy</th>\n",
       "      <th>ACCz</th>\n",
       "    </tr>\n",
       "  </thead>\n",
       "  <tbody>\n",
       "    <tr>\n",
       "      <th>0</th>\n",
       "      <td>0.021423</td>\n",
       "      <td>-1.148987</td>\n",
       "      <td>0.0</td>\n",
       "      <td>0.9554</td>\n",
       "      <td>-0.2220</td>\n",
       "      <td>-0.5580</td>\n",
       "    </tr>\n",
       "    <tr>\n",
       "      <th>1</th>\n",
       "      <td>0.020325</td>\n",
       "      <td>-1.124573</td>\n",
       "      <td>0.0</td>\n",
       "      <td>0.9258</td>\n",
       "      <td>-0.2216</td>\n",
       "      <td>-0.5538</td>\n",
       "    </tr>\n",
       "    <tr>\n",
       "      <th>2</th>\n",
       "      <td>0.016525</td>\n",
       "      <td>-1.152039</td>\n",
       "      <td>0.0</td>\n",
       "      <td>0.9082</td>\n",
       "      <td>-0.2196</td>\n",
       "      <td>-0.5392</td>\n",
       "    </tr>\n",
       "    <tr>\n",
       "      <th>3</th>\n",
       "      <td>0.016708</td>\n",
       "      <td>-1.158142</td>\n",
       "      <td>0.0</td>\n",
       "      <td>0.8974</td>\n",
       "      <td>-0.2102</td>\n",
       "      <td>-0.5122</td>\n",
       "    </tr>\n",
       "    <tr>\n",
       "      <th>4</th>\n",
       "      <td>0.011673</td>\n",
       "      <td>-1.161194</td>\n",
       "      <td>0.0</td>\n",
       "      <td>0.8882</td>\n",
       "      <td>-0.2036</td>\n",
       "      <td>-0.4824</td>\n",
       "    </tr>\n",
       "    <tr>\n",
       "      <th>...</th>\n",
       "      <td>...</td>\n",
       "      <td>...</td>\n",
       "      <td>...</td>\n",
       "      <td>...</td>\n",
       "      <td>...</td>\n",
       "      <td>...</td>\n",
       "    </tr>\n",
       "    <tr>\n",
       "      <th>695</th>\n",
       "      <td>0.003479</td>\n",
       "      <td>2.299500</td>\n",
       "      <td>7.0</td>\n",
       "      <td>0.9134</td>\n",
       "      <td>-0.1400</td>\n",
       "      <td>0.1074</td>\n",
       "    </tr>\n",
       "    <tr>\n",
       "      <th>696</th>\n",
       "      <td>0.000778</td>\n",
       "      <td>2.305603</td>\n",
       "      <td>7.0</td>\n",
       "      <td>0.9092</td>\n",
       "      <td>-0.1394</td>\n",
       "      <td>0.0994</td>\n",
       "    </tr>\n",
       "    <tr>\n",
       "      <th>697</th>\n",
       "      <td>-0.001694</td>\n",
       "      <td>2.297974</td>\n",
       "      <td>7.0</td>\n",
       "      <td>0.9084</td>\n",
       "      <td>-0.1414</td>\n",
       "      <td>0.0934</td>\n",
       "    </tr>\n",
       "    <tr>\n",
       "      <th>698</th>\n",
       "      <td>-0.003799</td>\n",
       "      <td>2.354431</td>\n",
       "      <td>7.0</td>\n",
       "      <td>0.9116</td>\n",
       "      <td>-0.1416</td>\n",
       "      <td>0.0958</td>\n",
       "    </tr>\n",
       "    <tr>\n",
       "      <th>699</th>\n",
       "      <td>-0.006546</td>\n",
       "      <td>2.355957</td>\n",
       "      <td>7.0</td>\n",
       "      <td>0.9156</td>\n",
       "      <td>-0.1396</td>\n",
       "      <td>0.1022</td>\n",
       "    </tr>\n",
       "  </tbody>\n",
       "</table>\n",
       "<p>700 rows × 6 columns</p>\n",
       "</div>"
      ],
      "text/plain": [
       "          ECG      RESP  LABEL    ACCx    ACCy    ACCz\n",
       "0    0.021423 -1.148987    0.0  0.9554 -0.2220 -0.5580\n",
       "1    0.020325 -1.124573    0.0  0.9258 -0.2216 -0.5538\n",
       "2    0.016525 -1.152039    0.0  0.9082 -0.2196 -0.5392\n",
       "3    0.016708 -1.158142    0.0  0.8974 -0.2102 -0.5122\n",
       "4    0.011673 -1.161194    0.0  0.8882 -0.2036 -0.4824\n",
       "..        ...       ...    ...     ...     ...     ...\n",
       "695  0.003479  2.299500    7.0  0.9134 -0.1400  0.1074\n",
       "696  0.000778  2.305603    7.0  0.9092 -0.1394  0.0994\n",
       "697 -0.001694  2.297974    7.0  0.9084 -0.1414  0.0934\n",
       "698 -0.003799  2.354431    7.0  0.9116 -0.1416  0.0958\n",
       "699 -0.006546  2.355957    7.0  0.9156 -0.1396  0.1022\n",
       "\n",
       "[700 rows x 6 columns]"
      ]
     },
     "execution_count": 99,
     "metadata": {},
     "output_type": "execute_result"
    },
    {
     "name": "stderr",
     "output_type": "stream",
     "text": [
      "1:26: W291 trailing whitespace\n"
     ]
    }
   ],
   "source": [
    "# Call your function here \n",
    "df = pickle_to_csv('./data/Stress.pkl')\n",
    "df"
   ]
  },
  {
   "cell_type": "markdown",
   "metadata": {},
   "source": [
    "**Question 2**"
   ]
  },
  {
   "cell_type": "code",
   "execution_count": null,
   "metadata": {},
   "outputs": [],
   "source": [
    "\"\"\"\n",
    "    Find the number of occurrences of each unique value in `LABEL` (count of values).\n",
    "    \n",
    "    Add a column `BINARY` to the DataFrame which contains 1 if `LABEL` is 2,\n",
    "    else 0.\n",
    "    \n",
    "    Find the mean, minimum, maximum and standard deviation of `RESP` for each value in `LABEL`.\n",
    "\"\"\""
   ]
  },
  {
   "cell_type": "code",
   "execution_count": 100,
   "metadata": {},
   "outputs": [],
   "source": [
    "def count_unique(dataframe):\n",
    "    \"\"\"\n",
    "        Function 1: count_unique(dataframe)\n",
    "        Parameters: dataframe: Stress data DataFrame\n",
    "        Return: dict containing count of values in `LABEL`\n",
    "    \"\"\"\n",
    "    return dataframe['LABEL'].value_counts().to_dict()"
   ]
  },
  {
   "cell_type": "code",
   "execution_count": 101,
   "metadata": {},
   "outputs": [
    {
     "data": {
      "text/plain": [
       "{0.0: 100, 1.0: 100, 2.0: 100, 6.0: 100, 4.0: 100, 3.0: 100, 7.0: 100}"
      ]
     },
     "execution_count": 101,
     "metadata": {},
     "output_type": "execute_result"
    }
   ],
   "source": [
    "# Call your function here\n",
    "count_unique(df)"
   ]
  },
  {
   "cell_type": "code",
   "execution_count": 102,
   "metadata": {},
   "outputs": [
    {
     "name": "stderr",
     "output_type": "stream",
     "text": [
      "7:18: E225 missing whitespace around operator\n"
     ]
    }
   ],
   "source": [
    "def add_binary(dataframe):\n",
    "    \"\"\"\n",
    "        Function 2: add_binary(dataframe)\n",
    "        Parameters: dataframe: Stress data DataFrame\n",
    "        Return: DataFrame (updated, containing `BINARY`)\n",
    "    \"\"\"\n",
    "    lis = [1 if i==2 else 0 for i in dataframe['LABEL']]\n",
    "    dataframe['BINARY'] = lis\n",
    "    return dataframe"
   ]
  },
  {
   "cell_type": "code",
   "execution_count": 103,
   "metadata": {},
   "outputs": [
    {
     "data": {
      "text/html": [
       "<div>\n",
       "<style scoped>\n",
       "    .dataframe tbody tr th:only-of-type {\n",
       "        vertical-align: middle;\n",
       "    }\n",
       "\n",
       "    .dataframe tbody tr th {\n",
       "        vertical-align: top;\n",
       "    }\n",
       "\n",
       "    .dataframe thead th {\n",
       "        text-align: right;\n",
       "    }\n",
       "</style>\n",
       "<table border=\"1\" class=\"dataframe\">\n",
       "  <thead>\n",
       "    <tr style=\"text-align: right;\">\n",
       "      <th></th>\n",
       "      <th>ECG</th>\n",
       "      <th>RESP</th>\n",
       "      <th>LABEL</th>\n",
       "      <th>ACCx</th>\n",
       "      <th>ACCy</th>\n",
       "      <th>ACCz</th>\n",
       "      <th>BINARY</th>\n",
       "    </tr>\n",
       "  </thead>\n",
       "  <tbody>\n",
       "    <tr>\n",
       "      <th>0</th>\n",
       "      <td>0.021423</td>\n",
       "      <td>-1.148987</td>\n",
       "      <td>0.0</td>\n",
       "      <td>0.9554</td>\n",
       "      <td>-0.2220</td>\n",
       "      <td>-0.5580</td>\n",
       "      <td>0</td>\n",
       "    </tr>\n",
       "    <tr>\n",
       "      <th>1</th>\n",
       "      <td>0.020325</td>\n",
       "      <td>-1.124573</td>\n",
       "      <td>0.0</td>\n",
       "      <td>0.9258</td>\n",
       "      <td>-0.2216</td>\n",
       "      <td>-0.5538</td>\n",
       "      <td>0</td>\n",
       "    </tr>\n",
       "    <tr>\n",
       "      <th>2</th>\n",
       "      <td>0.016525</td>\n",
       "      <td>-1.152039</td>\n",
       "      <td>0.0</td>\n",
       "      <td>0.9082</td>\n",
       "      <td>-0.2196</td>\n",
       "      <td>-0.5392</td>\n",
       "      <td>0</td>\n",
       "    </tr>\n",
       "    <tr>\n",
       "      <th>3</th>\n",
       "      <td>0.016708</td>\n",
       "      <td>-1.158142</td>\n",
       "      <td>0.0</td>\n",
       "      <td>0.8974</td>\n",
       "      <td>-0.2102</td>\n",
       "      <td>-0.5122</td>\n",
       "      <td>0</td>\n",
       "    </tr>\n",
       "    <tr>\n",
       "      <th>4</th>\n",
       "      <td>0.011673</td>\n",
       "      <td>-1.161194</td>\n",
       "      <td>0.0</td>\n",
       "      <td>0.8882</td>\n",
       "      <td>-0.2036</td>\n",
       "      <td>-0.4824</td>\n",
       "      <td>0</td>\n",
       "    </tr>\n",
       "    <tr>\n",
       "      <th>...</th>\n",
       "      <td>...</td>\n",
       "      <td>...</td>\n",
       "      <td>...</td>\n",
       "      <td>...</td>\n",
       "      <td>...</td>\n",
       "      <td>...</td>\n",
       "      <td>...</td>\n",
       "    </tr>\n",
       "    <tr>\n",
       "      <th>695</th>\n",
       "      <td>0.003479</td>\n",
       "      <td>2.299500</td>\n",
       "      <td>7.0</td>\n",
       "      <td>0.9134</td>\n",
       "      <td>-0.1400</td>\n",
       "      <td>0.1074</td>\n",
       "      <td>0</td>\n",
       "    </tr>\n",
       "    <tr>\n",
       "      <th>696</th>\n",
       "      <td>0.000778</td>\n",
       "      <td>2.305603</td>\n",
       "      <td>7.0</td>\n",
       "      <td>0.9092</td>\n",
       "      <td>-0.1394</td>\n",
       "      <td>0.0994</td>\n",
       "      <td>0</td>\n",
       "    </tr>\n",
       "    <tr>\n",
       "      <th>697</th>\n",
       "      <td>-0.001694</td>\n",
       "      <td>2.297974</td>\n",
       "      <td>7.0</td>\n",
       "      <td>0.9084</td>\n",
       "      <td>-0.1414</td>\n",
       "      <td>0.0934</td>\n",
       "      <td>0</td>\n",
       "    </tr>\n",
       "    <tr>\n",
       "      <th>698</th>\n",
       "      <td>-0.003799</td>\n",
       "      <td>2.354431</td>\n",
       "      <td>7.0</td>\n",
       "      <td>0.9116</td>\n",
       "      <td>-0.1416</td>\n",
       "      <td>0.0958</td>\n",
       "      <td>0</td>\n",
       "    </tr>\n",
       "    <tr>\n",
       "      <th>699</th>\n",
       "      <td>-0.006546</td>\n",
       "      <td>2.355957</td>\n",
       "      <td>7.0</td>\n",
       "      <td>0.9156</td>\n",
       "      <td>-0.1396</td>\n",
       "      <td>0.1022</td>\n",
       "      <td>0</td>\n",
       "    </tr>\n",
       "  </tbody>\n",
       "</table>\n",
       "<p>700 rows × 7 columns</p>\n",
       "</div>"
      ],
      "text/plain": [
       "          ECG      RESP  LABEL    ACCx    ACCy    ACCz  BINARY\n",
       "0    0.021423 -1.148987    0.0  0.9554 -0.2220 -0.5580       0\n",
       "1    0.020325 -1.124573    0.0  0.9258 -0.2216 -0.5538       0\n",
       "2    0.016525 -1.152039    0.0  0.9082 -0.2196 -0.5392       0\n",
       "3    0.016708 -1.158142    0.0  0.8974 -0.2102 -0.5122       0\n",
       "4    0.011673 -1.161194    0.0  0.8882 -0.2036 -0.4824       0\n",
       "..        ...       ...    ...     ...     ...     ...     ...\n",
       "695  0.003479  2.299500    7.0  0.9134 -0.1400  0.1074       0\n",
       "696  0.000778  2.305603    7.0  0.9092 -0.1394  0.0994       0\n",
       "697 -0.001694  2.297974    7.0  0.9084 -0.1414  0.0934       0\n",
       "698 -0.003799  2.354431    7.0  0.9116 -0.1416  0.0958       0\n",
       "699 -0.006546  2.355957    7.0  0.9156 -0.1396  0.1022       0\n",
       "\n",
       "[700 rows x 7 columns]"
      ]
     },
     "execution_count": 103,
     "metadata": {},
     "output_type": "execute_result"
    }
   ],
   "source": [
    "# Call your function here\n",
    "add_binary(df)"
   ]
  },
  {
   "cell_type": "code",
   "execution_count": 104,
   "metadata": {},
   "outputs": [
    {
     "name": "stderr",
     "output_type": "stream",
     "text": [
      "14:17: E225 missing whitespace around operator\n"
     ]
    }
   ],
   "source": [
    "def compute_resp(dataframe):\n",
    "    \"\"\"\n",
    "        Function 3: compute_resp(dataframe)\n",
    "        Parameters: dataframe: Stress data DataFrame\n",
    "        Return: dict containing mean, min, max and standard deviation of `RESP`\n",
    "                for each value in `LABEL`\n",
    "        Dictionary Format: {label_value: [mean, min, max, std_dev]}\n",
    "        Example: {1: [1, 0, 2, 1], 2: [0, -1, 1, 1], ... }\n",
    "    \"\"\"\n",
    "    res = {}\n",
    "    ul = dataframe['LABEL'].unique()\n",
    "    gpdf = dataframe.groupby(['LABEL'])\n",
    "    for i in ul:\n",
    "        reslis =[]\n",
    "        reslis.append(gpdf.get_group(i).mean()['RESP'])\n",
    "        reslis.append(gpdf.get_group(i).min()['RESP'])\n",
    "        reslis.append(gpdf.get_group(i).max()['RESP'])\n",
    "        reslis.append(gpdf.get_group(i).std()['RESP'])\n",
    "        res[i] = reslis\n",
    "    return res"
   ]
  },
  {
   "cell_type": "code",
   "execution_count": 105,
   "metadata": {
    "scrolled": false
   },
   "outputs": [
    {
     "data": {
      "text/plain": [
       "{0.0: [-1.19342041015625,\n",
       "  -1.39617919921875,\n",
       "  -1.12457275390625,\n",
       "  0.04224704631603914],\n",
       " 1.0: [0.7134246826171875,\n",
       "  -0.23345947265625,\n",
       "  1.19171142578125,\n",
       "  0.2955339157237469],\n",
       " 2.0: [-1.0665130615234375,\n",
       "  -1.63116455078125,\n",
       "  -0.86517333984375,\n",
       "  0.12823314954549292],\n",
       " 6.0: [0.084747314453125,\n",
       "  -0.4180908203125,\n",
       "  0.16632080078125,\n",
       "  0.08561486266706556],\n",
       " 4.0: [-2.1305999755859375,\n",
       "  -2.54364013671875,\n",
       "  -2.00042724609375,\n",
       "  0.08807708808175198],\n",
       " 3.0: [-0.5306396484375,\n",
       "  -1.27105712890625,\n",
       "  -0.09918212890625,\n",
       "  0.24397469864245047],\n",
       " 7.0: [1.1905059814453125,\n",
       "  -0.00457763671875,\n",
       "  2.35595703125,\n",
       "  0.6931962371698447]}"
      ]
     },
     "execution_count": 105,
     "metadata": {},
     "output_type": "execute_result"
    }
   ],
   "source": [
    "# Call your function here\n",
    "compute_resp(df)"
   ]
  },
  {
   "cell_type": "markdown",
   "metadata": {},
   "source": [
    "**Question 3**"
   ]
  },
  {
   "cell_type": "code",
   "execution_count": 10,
   "metadata": {},
   "outputs": [
    {
     "data": {
      "text/plain": [
       "'\\n    Plot `RESP` using matplotlib (pyplot):\\n    - First, just plot the raw values.\\n    - Next, try using different colours for data points based on `BINARY`.\\n    - Experiment and come up with a useful plot.\\n'"
      ]
     },
     "execution_count": 10,
     "metadata": {},
     "output_type": "execute_result"
    }
   ],
   "source": [
    "\"\"\"\n",
    "    Plot `RESP` using matplotlib (pyplot):\n",
    "    - First, just plot the raw values.\n",
    "    - Next, try using different colours for data points based on `BINARY`.\n",
    "    - Experiment and come up with a useful plot.\n",
    "\"\"\""
   ]
  },
  {
   "cell_type": "code",
   "execution_count": 106,
   "metadata": {},
   "outputs": [],
   "source": [
    "def plot_raw(dataframe):\n",
    "    \"\"\"\n",
    "        Function 1: plot_raw(dataframe)\n",
    "        Parameters: dataframe: Stress data DataFrame\n",
    "        Output: Plot\n",
    "    \"\"\"\n",
    "    mpl.pyplot.hist(dataframe['RESP'],)"
   ]
  },
  {
   "cell_type": "code",
   "execution_count": 107,
   "metadata": {},
   "outputs": [
    {
     "data": {
      "image/png": "[encoded data removed]",
      "text/plain": [
       "<Figure size 432x288 with 1 Axes>"
      ]
     },
     "metadata": {
      "needs_background": "light"
     },
     "output_type": "display_data"
    }
   ],
   "source": [
    "# Call your function here\n",
    "plot_raw(df)"
   ]
  },
  {
   "cell_type": "code",
   "execution_count": 126,
   "metadata": {},
   "outputs": [
    {
     "name": "stderr",
     "output_type": "stream",
     "text": [
      "7:27: E231 missing whitespace after ','\n",
      "10:1: W293 blank line contains whitespace\n"
     ]
    }
   ],
   "source": [
    "def plot_coloured(dataframe):\n",
    "    \"\"\"\n",
    "        Function 2: plot_coloured(dataframe)\n",
    "        Parameters: dataframe: Stress data DataFrame\n",
    "        Output: Plot\n",
    "    \"\"\"\n",
    "    plt.figure(figsize=(20,10))\n",
    "    plt.scatter(dataframe['RESP'], dataframe['ECG'], c=dataframe['BINARY'])\n",
    "    plt.show()\n",
    "    "
   ]
  },
  {
   "cell_type": "code",
   "execution_count": 127,
   "metadata": {},
   "outputs": [
    {
     "data": {
      "image/png": "[encoded data removed]",
      "text/plain": [
       "<Figure size 1440x720 with 1 Axes>"
      ]
     },
     "metadata": {
      "needs_background": "light"
     },
     "output_type": "display_data"
    }
   ],
   "source": [
    "# Call your function here\n",
    "plot_coloured(df)"
   ]
  },
  {
   "cell_type": "markdown",
   "metadata": {},
   "source": [
    "## Task 2"
   ]
  },
  {
   "cell_type": "markdown",
   "metadata": {},
   "source": [
    "Some simple file operations."
   ]
  },
  {
   "cell_type": "code",
   "execution_count": null,
   "metadata": {},
   "outputs": [],
   "source": [
    "\"\"\"\n",
    "    Generate a text file containing 50 integer elements between 1 and 20 (use `random`). \n",
    "    Identify the unique numbers and the number of their occurrences, and write this into \n",
    "    a new text file.\n",
    "    \n",
    "    Example\n",
    "    -------\n",
    "    \n",
    "    Generated File\n",
    "    --------------\n",
    "    1 2 3 4 3 2 1 ...\n",
    "    \n",
    "    Count File\n",
    "    ----------\n",
    "    1 - 2\n",
    "    2 - 2\n",
    "    3 - 2\n",
    "    4 - 1\n",
    "    ...\n",
    "\"\"\""
   ]
  },
  {
   "cell_type": "code",
   "execution_count": 94,
   "metadata": {},
   "outputs": [
    {
     "name": "stderr",
     "output_type": "stream",
     "text": [
      "8:30: E203 whitespace before ','\n",
      "10:33: E203 whitespace before ','\n",
      "12:30: E203 whitespace before ','\n",
      "13:23: W291 trailing whitespace\n",
      "17:50: E225 missing whitespace around operator\n",
      "19:28: E231 missing whitespace after ','\n",
      "22:28: E231 missing whitespace after ','\n",
      "23:23: W291 trailing whitespace\n",
      "27:1: W293 blank line contains whitespace\n"
     ]
    }
   ],
   "source": [
    "def random_numbers():\n",
    "    \"\"\"\n",
    "        Function: random_numbers()\n",
    "        Save: `Numbers.txt` containing the 50 integers,\n",
    "              `Count.txt` containing the count of unique integers\n",
    "    \"\"\"\n",
    "    from collections import Counter\n",
    "    with open('./Numbers.txt' , 'w') as f:\n",
    "        for i in range(50):\n",
    "            n = random.randint(1 , 20)\n",
    "            f.write(str(n) + ' ')\n",
    "    with open('./Numbers.txt' , 'r') as f:\n",
    "        res = f.read() \n",
    "        print('Generated File')\n",
    "        print('----------------------')\n",
    "        print(res)\n",
    "        ct = [int(i) for i in res.split(\" \") if i!='']\n",
    "        ct = Counter(ct)\n",
    "    with open('./Count.txt','w') as f:\n",
    "        for key in dict(ct):\n",
    "            f.write(f'{key} - {ct[key]}\\n')\n",
    "    with open('./Count.txt','r') as f:\n",
    "        res = f.read()  \n",
    "        print('Count File')\n",
    "        print('----------------------')\n",
    "        print(res)\n",
    "        "
   ]
  },
  {
   "cell_type": "code",
   "execution_count": 95,
   "metadata": {},
   "outputs": [
    {
     "name": "stdout",
     "output_type": "stream",
     "text": [
      "Generated File\n",
      "----------------------\n",
      "6 19 13 6 13 19 6 13 16 13 10 17 1 20 2 16 2 1 4 20 18 16 10 20 2 12 9 19 3 20 4 13 18 15 5 1 12 8 16 3 20 7 18 4 2 7 9 16 1 5 \n",
      "Count File\n",
      "----------------------\n",
      "6 - 3\n",
      "19 - 3\n",
      "13 - 5\n",
      "16 - 5\n",
      "10 - 2\n",
      "17 - 1\n",
      "1 - 4\n",
      "20 - 5\n",
      "2 - 4\n",
      "4 - 3\n",
      "18 - 3\n",
      "12 - 2\n",
      "9 - 2\n",
      "3 - 2\n",
      "15 - 1\n",
      "5 - 2\n",
      "8 - 1\n",
      "7 - 2\n",
      "\n"
     ]
    }
   ],
   "source": [
    "# Call your function here\n",
    "random_numbers()"
   ]
  },
  {
   "cell_type": "markdown",
   "metadata": {},
   "source": [
    "Once you're done, move on to Module 3. Great job!"
   ]
  }
 ],
 "metadata": {
  "kernelspec": {
   "display_name": "Python 3 (ipykernel)",
   "language": "python",
   "name": "python3"
  },
  "language_info": {
   "codemirror_mode": {
    "name": "ipython",
    "version": 3
   },
   "file_extension": ".py",
   "mimetype": "text/x-python",
   "name": "python",
   "nbconvert_exporter": "python",
   "pygments_lexer": "ipython3",
   "version": "3.9.12"
  }
 },
 "nbformat": 4,
 "nbformat_minor": 2
}
